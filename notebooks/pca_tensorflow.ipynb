{
 "cells": [
  {
   "cell_type": "markdown",
   "metadata": {},
   "source": [
    "# PCA in Tensorflow"
   ]
  },
  {
   "cell_type": "code",
   "execution_count": 1,
   "metadata": {},
   "outputs": [
    {
     "name": "stderr",
     "output_type": "stream",
     "text": [
      "Using TensorFlow backend.\n"
     ]
    },
    {
     "name": "stdout",
     "output_type": "stream",
     "text": [
      "Done: importing libraries\n"
     ]
    }
   ],
   "source": [
    "import numpy as np\n",
    "import tensorflow as tf\n",
    "import tarfile\n",
    "import io\n",
    "import os\n",
    "import psutil\n",
    "import time\n",
    "from tensorflow import keras\n",
    "from google.cloud import storage\n",
    "from tensorflow.keras.models import Model \n",
    "from keras import backend as K\n",
    "from PIL import Image\n",
    "from matplotlib import pylab as plt\n",
    "\n",
    "print('Done: importing libraries')"
   ]
  },
  {
   "cell_type": "markdown",
   "metadata": {},
   "source": [
    "## Load preprocessed data"
   ]
  },
  {
   "cell_type": "code",
   "execution_count": 2,
   "metadata": {},
   "outputs": [
    {
     "name": "stdout",
     "output_type": "stream",
     "text": [
      "Done: loading training data\n",
      "Done: loading validation data\n"
     ]
    }
   ],
   "source": [
    "# preprocessed imgs are all 32x32\n",
    "img_size = (32, 32)\n",
    "pixels_per_img = np.prod(img_size)\n",
    "\n",
    "# load training data\n",
    "training_data_filename = 'train_img_array.pkl'\n",
    "train_data_size = 1803460\n",
    "full_train = np.memmap(training_data_filename, dtype='float32', mode='r+',\n",
    "               shape=(train_data_size, img_size[0], img_size[1]))\n",
    "\n",
    "print('Done: loading training data')\n",
    "\n",
    "# load validation data\n",
    "val_data_filename = 'val_img_array.pkl'\n",
    "val_data_size = 36500\n",
    "full_val = np.memmap(val_data_filename, dtype='float32', mode='r+',\n",
    "               shape=(val_data_size, img_size[0], img_size[1]))\n",
    "\n",
    "print('Done: loading validation data')"
   ]
  },
  {
   "cell_type": "code",
   "execution_count": null,
   "metadata": {},
   "outputs": [],
   "source": [
    "# check that it loaded properly\n",
    "print('full train shape:', full_train.shape)\n",
    "plt.imshow(full_train[4], cmap='Greys')\n",
    "print('Done: test loading train data')"
   ]
  },
  {
   "cell_type": "code",
   "execution_count": null,
   "metadata": {},
   "outputs": [],
   "source": [
    "# check that it loaded properly\n",
    "print('full val shape:', full_val.shape)\n",
    "plt.imshow(full_val[4], cmap='Greys')\n",
    "print('Done: test loading val data')"
   ]
  },
  {
   "cell_type": "code",
   "execution_count": 3,
   "metadata": {},
   "outputs": [
    {
     "name": "stdout",
     "output_type": "stream",
     "text": [
      "train_data shape: (1803000, 32, 32)\n",
      "train_data shape (flattened): (1803000, 1024)\n",
      "val_data shape (flattened): (36500, 1024)\n",
      "Done: test loading data (minus last 460 entries)\n"
     ]
    },
    {
     "data": {
      "image/png": "[encoded data removed]",
      "text/plain": [
       "<Figure size 432x288 with 1 Axes>"
      ]
     },
     "metadata": {
      "needs_background": "light"
     },
     "output_type": "display_data"
    }
   ],
   "source": [
    "# not using full training dataset because last 460 entries were not preprocessed\n",
    "train_data = full_train[:1803000]\n",
    "print('train_data shape:', train_data.shape)\n",
    "plt.imshow(train_data[100], cmap='Greys')\n",
    "\n",
    "# flatten every image into a 1D vector to facilitate matrix computations later\n",
    "train_data = train_data.flatten().reshape((len(train_data), pixels_per_img))\n",
    "print('train_data shape (flattened):', train_data.shape)\n",
    "\n",
    "# also flatten validation data\n",
    "val_data = full_val.flatten().reshape((len(full_val), pixels_per_img))\n",
    "print('val_data shape (flattened):', val_data.shape)\n",
    "\n",
    "# convert to tensor (takes a few seconds)\n",
    "# train_data_t = tf.convert_to_tensor(train_data, dtype = tf.float64)\n",
    "\n",
    "print('Done: test loading data (minus last 460 entries)')"
   ]
  },
  {
   "cell_type": "code",
   "execution_count": 4,
   "metadata": {},
   "outputs": [
    {
     "name": "stdout",
     "output_type": "stream",
     "text": [
      "Done: setting up data subsets\n"
     ]
    }
   ],
   "source": [
    "# small training data subset for debugging purposes\n",
    "train_data_sub = tf.convert_to_tensor(train_data[:100], dtype=tf.float64)\n",
    "val_data = tf.convert_to_tensor(val_data, dtype=tf.float64)\n",
    "\n",
    "# val_data_sub = tf.convert_to_tensor(val_data[:100], dtype = tf.float64)\n",
    "\n",
    "# print('train data shape:', train_data.shape)\n",
    "# print('val data shape:', val_data.shape)\n",
    "\n",
    "# setting up different-sized datasets so we can test how the PCA scales (takes a few secs each)\n",
    "# note: I'm not going to assign them to variables here so we can save memory\n",
    "\n",
    "# train_data_10k = tf.convert_to_tensor(train_data[:10000], dtype = tf.float64)\n",
    "# train_data_50k = tf.convert_to_tensor(train_data[:50000], dtype = tf.float64)\n",
    "# train_data_100k = tf.convert_to_tensor(train_data[:100000], dtype = tf.float64)\n",
    "# train_data_200k = tf.convert_to_tensor(train_data[:200000], dtype = tf.float64)\n",
    "# train_data_500k = tf.convert_to_tensor(train_data[:500000], dtype = tf.float64)\n",
    "\n",
    "print('Done: setting up data subsets')"
   ]
  },
  {
   "cell_type": "markdown",
   "metadata": {},
   "source": [
    "## Implement PCA\n",
    "\n",
    "References:\n",
    "* https://dev.to/mmithrakumar/principal-components-analysis-with-tensorflow-2-0-21hl\n",
    "* https://towardsdatascience.com/principal-component-analysis-in-depth-understanding-through-image-visualization-892922f77d9f"
   ]
  },
  {
   "cell_type": "code",
   "execution_count": 5,
   "metadata": {},
   "outputs": [
    {
     "name": "stdout",
     "output_type": "stream",
     "text": [
      "Done: define normalize()\n"
     ]
    }
   ],
   "source": [
    "def normalize(data):\n",
    "    \"\"\" Normalize the data \n",
    "    Args:\n",
    "        data (tf.tensor)\n",
    "    Returns:    \n",
    "        norm_data (tf.tensor): normalized data\n",
    "    \"\"\"\n",
    "    \n",
    "    norm_data = tf.identity(data)\n",
    "    norm_data -= tf.reduce_mean(norm_data, axis=0)\n",
    "    return norm_data\n",
    "\n",
    "print('Done: define normalize()')"
   ]
  },
  {
   "cell_type": "code",
   "execution_count": null,
   "metadata": {},
   "outputs": [],
   "source": [
    "# Tests ---\n",
    "\n",
    "normalized_data = normalize(train_data_sub)\n",
    "\n",
    "print('normalized data shape:', normalized_data.shape)\n",
    "\n",
    "# display samples in first 2 dimensions\n",
    "plt.plot(normalized_data[:,0], normalized_data[:,1], '+', color='b')\n",
    "plt.grid()\n",
    "\n",
    "print('Done: test normalized data')"
   ]
  },
  {
   "cell_type": "code",
   "execution_count": 6,
   "metadata": {},
   "outputs": [],
   "source": [
    "def covariance_matrix(data):\n",
    "    \"\"\" Compute covariance matrix of data \n",
    "    Args:\n",
    "        data (tf.tensor)\n",
    "    Returns:\n",
    "        covmat (tf.tensor): covariance matrix of data\n",
    "    \"\"\"\n",
    "    covmat = tf.tensordot(tf.transpose(data), data, axes=1)\n",
    "    return covmat"
   ]
  },
  {
   "cell_type": "code",
   "execution_count": null,
   "metadata": {},
   "outputs": [],
   "source": [
    "# Tests ---\n",
    "\n",
    "print('test covariance matrix shape:', covariance_matrix(normalized_data).shape)"
   ]
  },
  {
   "cell_type": "code",
   "execution_count": 7,
   "metadata": {},
   "outputs": [
    {
     "name": "stdout",
     "output_type": "stream",
     "text": [
      "Done: define pca() and pca_projection()\n"
     ]
    }
   ],
   "source": [
    "def pca(data):\n",
    "    \"\"\" Perform PCA on the data to find principal components\n",
    "    Args:\n",
    "        data (tf.tensor): the data to find the principal components of\n",
    "    Returns:\n",
    "        eigen_values (tf.tensor), eigen_vectors (tf.tensor): the principal components\n",
    "    \"\"\"\n",
    "    \n",
    "    # normalize data\n",
    "    norm_data = normalize(data)\n",
    "    \n",
    "    # compute covariance matrix\n",
    "    covmat = covariance_matrix(norm_data)\n",
    "    \n",
    "    # compute eigenvalues & eigenvectors\n",
    "    eigvals, eigvecs = tf.linalg.eigh(covmat)\n",
    "    \n",
    "    # Sort the eigenvectors based on their eigenvalues; from highest to lowest\n",
    "    # inds = tf.argsort(eigvals, axis=-1, direction='DESCENDING')\n",
    "\n",
    "    # Find the top `k` principal components and all eigenvalues\n",
    "    # components = eigvecs[:,inds[:k]]  # how to do this with tensors???\n",
    "    # eigenvalues = eigvals[inds]\n",
    "    \n",
    "    return eigvals, eigvecs\n",
    "\n",
    "\n",
    "def pca_projection(eigvecs, data):\n",
    "    \"\"\" Compute projection of data using principal components \n",
    "    Args:\n",
    "        eigvecs: the principal components to project\n",
    "    \n",
    "    \"\"\"\n",
    "    proj = tf.tensordot(tf.transpose(eigvecs), tf.transpose(data), axes=1)\n",
    "\n",
    "    return proj\n",
    "    \n",
    "print('Done: define pca() and pca_projection()')"
   ]
  },
  {
   "cell_type": "code",
   "execution_count": 8,
   "metadata": {},
   "outputs": [
    {
     "name": "stdout",
     "output_type": "stream",
     "text": [
      "Done: define reconstruction_error()\n"
     ]
    }
   ],
   "source": [
    "def reconstruction_error(original, proj):\n",
    "    \"\"\" Compute the reconstruction error between the original data and the projection \n",
    "    Args:\n",
    "        original: the original dataset\n",
    "        proj: the pca projection of the data\n",
    "    Returns: scalar representing RMSE of the original vs projection\n",
    "    \"\"\"\n",
    "    return tf.reduce_mean((original - proj)**2)\n",
    "\n",
    "print('Done: define reconstruction_error()')"
   ]
  },
  {
   "cell_type": "code",
   "execution_count": null,
   "metadata": {},
   "outputs": [],
   "source": [
    "# Tests ---\n",
    "\n",
    "# garbage collection to free up memory\n",
    "normalized_data = None\n",
    "\n",
    "eigen_values, eigen_vectors = pca(train_data_sub)\n",
    "projection = pca_projection(eigen_vectors, val_data)\n",
    "\n",
    "print('eigen_values shape:', eigen_values.shape)\n",
    "print('eigen_vectors shape:', eigen_vectors.shape)\n",
    "print('projection shape:', projection.shape)\n",
    "    \n",
    "print('Done: project data using principle components')"
   ]
  },
  {
   "cell_type": "code",
   "execution_count": null,
   "metadata": {},
   "outputs": [],
   "source": [
    "# display projection (in 2D for this example)\n",
    "plt.plot(projection[0,:], projection[1,:], '+', color='b')\n",
    "plt.grid()\n",
    "\n",
    "# garbage collection\n",
    "train_data_sub = None\n",
    "projection = None\n",
    "eigen_values = None\n",
    "eigen_vectors = None"
   ]
  },
  {
   "cell_type": "markdown",
   "metadata": {},
   "source": [
    "## Test PCA on various data subsets\n",
    "\n",
    "Get the runtime, memory usage, and reconstruction (projection) error for each of the following dataset sizes:\n",
    "1. 10000\n",
    "2. 50000\n",
    "3. 100000\n",
    "4. 200000\n",
    "5. 500000"
   ]
  },
  {
   "cell_type": "code",
   "execution_count": 11,
   "metadata": {},
   "outputs": [
    {
     "name": "stdout",
     "output_type": "stream",
     "text": [
      "Done: define pca_test()\n"
     ]
    }
   ],
   "source": [
    "def pca_test(data, validation):\n",
    "    \"\"\" Run PCA and record metrics \n",
    "    \n",
    "    Returns the eigen_values, eigen_vectors, projection\n",
    "    \"\"\"\n",
    "    \n",
    "    # runtime: start time\n",
    "    start_time = time.time()\n",
    "    # memory usage: memory in use before running pca\n",
    "    pid = os.getpid()\n",
    "    ps = psutil.Process(pid)\n",
    "    before_memory = ps.memory_info()\n",
    "\n",
    "    eigen_values, eigen_vectors = pca(data)\n",
    "    projection = pca_projection(eigen_vectors, validation)\n",
    "#     projection = pca_projection(eigen_vectors, data)\n",
    "    \n",
    "#     recon_err = reconstruction_error(data, tf.transpose(projection))\n",
    "    recon_err = reconstruction_error(validation, tf.transpose(projection))\n",
    "    \n",
    "    # runtime: end time\n",
    "    end_time = time.time()\n",
    "    pca_time = end_time - start_time\n",
    "    # memory usage: memory used after running pca\n",
    "    after_memory = ps.memory_info()\n",
    "    \n",
    "    # print metrics\n",
    "    print('METRICS for %d subset:' %(len(data)))\n",
    "    print('pca runtime:', pca_time)\n",
    "    print(f'rss: {after_memory.rss - before_memory.rss} bytes')\n",
    "    print(f'vms: {after_memory.vms - before_memory.vms} bytes')\n",
    "    \n",
    "    print('reconstruction error:', recon_err)\n",
    "    \n",
    "    # display projection (in 2D for this example)\n",
    "    plt.plot(projection[0,:], projection[1,:], '+', color='b')\n",
    "    plt.grid()\n",
    "    \n",
    "    return eigen_values, eigen_vectors, projection\n",
    "    \n",
    "\n",
    "print('Done: define pca_test()')"
   ]
  },
  {
   "cell_type": "code",
   "execution_count": null,
   "metadata": {},
   "outputs": [],
   "source": [
    "# test 10k\n",
    "pca_test(tf.convert_to_tensor(train_data[:10000], dtype = tf.float64), val_data)\n",
    "print('Done: test pca on 10k data subset')"
   ]
  },
  {
   "cell_type": "code",
   "execution_count": null,
   "metadata": {},
   "outputs": [],
   "source": [
    "# test 50k\n",
    "pca_test(tf.convert_to_tensor(train_data[:50000], dtype = tf.float64), val_data)\n",
    "print('Done: test pca on 50k data subset')"
   ]
  },
  {
   "cell_type": "code",
   "execution_count": null,
   "metadata": {},
   "outputs": [],
   "source": [
    "# test 100k\n",
    "pca_test(tf.convert_to_tensor(train_data[:100000], dtype = tf.float64), val_data)\n",
    "print('Done: test pca on 100k data subset')"
   ]
  },
  {
   "cell_type": "code",
   "execution_count": null,
   "metadata": {},
   "outputs": [],
   "source": [
    "# test 200k\n",
    "pca_test(tf.convert_to_tensor(train_data[:200000], dtype = tf.float64), val_data)\n",
    "print('Done: test pca on 200k data subset')"
   ]
  },
  {
   "cell_type": "code",
   "execution_count": 12,
   "metadata": {},
   "outputs": [
    {
     "ename": "InternalError",
     "evalue": "Failed copying input tensor from /job:localhost/replica:0/task:0/device:CPU:0 to /job:localhost/replica:0/task:0/device:GPU:0 in order to run Identity: Dst tensor is not initialized. [Op:Identity]",
     "output_type": "error",
     "traceback": [
      "\u001b[0;31m---------------------------------------------------------------------------\u001b[0m",
      "\u001b[0;31mInternalError\u001b[0m                             Traceback (most recent call last)",
      "\u001b[0;32m<ipython-input-12-3199eaf3597a>\u001b[0m in \u001b[0;36m<module>\u001b[0;34m\u001b[0m\n\u001b[1;32m      1\u001b[0m \u001b[0;31m# test 500k\u001b[0m\u001b[0;34m\u001b[0m\u001b[0;34m\u001b[0m\u001b[0;34m\u001b[0m\u001b[0m\n\u001b[0;32m----> 2\u001b[0;31m \u001b[0meigen_values\u001b[0m\u001b[0;34m,\u001b[0m \u001b[0meigen_vectors\u001b[0m\u001b[0;34m,\u001b[0m \u001b[0mprojection\u001b[0m \u001b[0;34m=\u001b[0m \u001b[0mpca_test\u001b[0m\u001b[0;34m(\u001b[0m\u001b[0mtf\u001b[0m\u001b[0;34m.\u001b[0m\u001b[0mconvert_to_tensor\u001b[0m\u001b[0;34m(\u001b[0m\u001b[0mtrain_data\u001b[0m\u001b[0;34m[\u001b[0m\u001b[0;34m:\u001b[0m\u001b[0;36m500000\u001b[0m\u001b[0;34m]\u001b[0m\u001b[0;34m,\u001b[0m \u001b[0mdtype\u001b[0m \u001b[0;34m=\u001b[0m \u001b[0mtf\u001b[0m\u001b[0;34m.\u001b[0m\u001b[0mfloat64\u001b[0m\u001b[0;34m)\u001b[0m\u001b[0;34m,\u001b[0m \u001b[0mval_data\u001b[0m\u001b[0;34m)\u001b[0m\u001b[0;34m\u001b[0m\u001b[0;34m\u001b[0m\u001b[0m\n\u001b[0m\u001b[1;32m      3\u001b[0m \u001b[0mprint\u001b[0m\u001b[0;34m(\u001b[0m\u001b[0;34m'Done: test pca on 500k data subset'\u001b[0m\u001b[0;34m)\u001b[0m\u001b[0;34m\u001b[0m\u001b[0;34m\u001b[0m\u001b[0m\n",
      "\u001b[0;32m<ipython-input-11-fc4f161fa17f>\u001b[0m in \u001b[0;36mpca_test\u001b[0;34m(data, validation)\u001b[0m\n\u001b[1;32m     12\u001b[0m     \u001b[0mbefore_memory\u001b[0m \u001b[0;34m=\u001b[0m \u001b[0mps\u001b[0m\u001b[0;34m.\u001b[0m\u001b[0mmemory_info\u001b[0m\u001b[0;34m(\u001b[0m\u001b[0;34m)\u001b[0m\u001b[0;34m\u001b[0m\u001b[0;34m\u001b[0m\u001b[0m\n\u001b[1;32m     13\u001b[0m \u001b[0;34m\u001b[0m\u001b[0m\n\u001b[0;32m---> 14\u001b[0;31m     \u001b[0meigen_values\u001b[0m\u001b[0;34m,\u001b[0m \u001b[0meigen_vectors\u001b[0m \u001b[0;34m=\u001b[0m \u001b[0mpca\u001b[0m\u001b[0;34m(\u001b[0m\u001b[0mdata\u001b[0m\u001b[0;34m)\u001b[0m\u001b[0;34m\u001b[0m\u001b[0;34m\u001b[0m\u001b[0m\n\u001b[0m\u001b[1;32m     15\u001b[0m     \u001b[0mprojection\u001b[0m \u001b[0;34m=\u001b[0m \u001b[0mpca_projection\u001b[0m\u001b[0;34m(\u001b[0m\u001b[0meigen_vectors\u001b[0m\u001b[0;34m,\u001b[0m \u001b[0mvalidation\u001b[0m\u001b[0;34m)\u001b[0m\u001b[0;34m\u001b[0m\u001b[0;34m\u001b[0m\u001b[0m\n\u001b[1;32m     16\u001b[0m \u001b[0;31m#     projection = pca_projection(eigen_vectors, data)\u001b[0m\u001b[0;34m\u001b[0m\u001b[0;34m\u001b[0m\u001b[0;34m\u001b[0m\u001b[0m\n",
      "\u001b[0;32m<ipython-input-7-34d96bda7939>\u001b[0m in \u001b[0;36mpca\u001b[0;34m(data)\u001b[0m\n\u001b[1;32m      8\u001b[0m \u001b[0;34m\u001b[0m\u001b[0m\n\u001b[1;32m      9\u001b[0m     \u001b[0;31m# normalize data\u001b[0m\u001b[0;34m\u001b[0m\u001b[0;34m\u001b[0m\u001b[0;34m\u001b[0m\u001b[0m\n\u001b[0;32m---> 10\u001b[0;31m     \u001b[0mnorm_data\u001b[0m \u001b[0;34m=\u001b[0m \u001b[0mnormalize\u001b[0m\u001b[0;34m(\u001b[0m\u001b[0mdata\u001b[0m\u001b[0;34m)\u001b[0m\u001b[0;34m\u001b[0m\u001b[0;34m\u001b[0m\u001b[0m\n\u001b[0m\u001b[1;32m     11\u001b[0m \u001b[0;34m\u001b[0m\u001b[0m\n\u001b[1;32m     12\u001b[0m     \u001b[0;31m# compute covariance matrix\u001b[0m\u001b[0;34m\u001b[0m\u001b[0;34m\u001b[0m\u001b[0;34m\u001b[0m\u001b[0m\n",
      "\u001b[0;32m<ipython-input-5-1e8de2edfe9a>\u001b[0m in \u001b[0;36mnormalize\u001b[0;34m(data)\u001b[0m\n\u001b[1;32m      7\u001b[0m     \"\"\"\n\u001b[1;32m      8\u001b[0m \u001b[0;34m\u001b[0m\u001b[0m\n\u001b[0;32m----> 9\u001b[0;31m     \u001b[0mnorm_data\u001b[0m \u001b[0;34m=\u001b[0m \u001b[0mtf\u001b[0m\u001b[0;34m.\u001b[0m\u001b[0midentity\u001b[0m\u001b[0;34m(\u001b[0m\u001b[0mdata\u001b[0m\u001b[0;34m)\u001b[0m\u001b[0;34m\u001b[0m\u001b[0;34m\u001b[0m\u001b[0m\n\u001b[0m\u001b[1;32m     10\u001b[0m     \u001b[0mnorm_data\u001b[0m \u001b[0;34m-=\u001b[0m \u001b[0mtf\u001b[0m\u001b[0;34m.\u001b[0m\u001b[0mreduce_mean\u001b[0m\u001b[0;34m(\u001b[0m\u001b[0mnorm_data\u001b[0m\u001b[0;34m,\u001b[0m \u001b[0maxis\u001b[0m\u001b[0;34m=\u001b[0m\u001b[0;36m0\u001b[0m\u001b[0;34m)\u001b[0m\u001b[0;34m\u001b[0m\u001b[0;34m\u001b[0m\u001b[0m\n\u001b[1;32m     11\u001b[0m     \u001b[0;32mreturn\u001b[0m \u001b[0mnorm_data\u001b[0m\u001b[0;34m\u001b[0m\u001b[0;34m\u001b[0m\u001b[0m\n",
      "\u001b[0;32m/opt/conda/lib/python3.7/site-packages/tensorflow_core/python/util/dispatch.py\u001b[0m in \u001b[0;36mwrapper\u001b[0;34m(*args, **kwargs)\u001b[0m\n\u001b[1;32m    178\u001b[0m     \u001b[0;34m\"\"\"Call target, and fall back on dispatchers if there is a TypeError.\"\"\"\u001b[0m\u001b[0;34m\u001b[0m\u001b[0;34m\u001b[0m\u001b[0m\n\u001b[1;32m    179\u001b[0m     \u001b[0;32mtry\u001b[0m\u001b[0;34m:\u001b[0m\u001b[0;34m\u001b[0m\u001b[0;34m\u001b[0m\u001b[0m\n\u001b[0;32m--> 180\u001b[0;31m       \u001b[0;32mreturn\u001b[0m \u001b[0mtarget\u001b[0m\u001b[0;34m(\u001b[0m\u001b[0;34m*\u001b[0m\u001b[0margs\u001b[0m\u001b[0;34m,\u001b[0m \u001b[0;34m**\u001b[0m\u001b[0mkwargs\u001b[0m\u001b[0;34m)\u001b[0m\u001b[0;34m\u001b[0m\u001b[0;34m\u001b[0m\u001b[0m\n\u001b[0m\u001b[1;32m    181\u001b[0m     \u001b[0;32mexcept\u001b[0m \u001b[0;34m(\u001b[0m\u001b[0mTypeError\u001b[0m\u001b[0;34m,\u001b[0m \u001b[0mValueError\u001b[0m\u001b[0;34m)\u001b[0m\u001b[0;34m:\u001b[0m\u001b[0;34m\u001b[0m\u001b[0;34m\u001b[0m\u001b[0m\n\u001b[1;32m    182\u001b[0m       \u001b[0;31m# Note: convert_to_eager_tensor currently raises a ValueError, not a\u001b[0m\u001b[0;34m\u001b[0m\u001b[0;34m\u001b[0m\u001b[0;34m\u001b[0m\u001b[0m\n",
      "\u001b[0;32m/opt/conda/lib/python3.7/site-packages/tensorflow_core/python/ops/array_ops.py\u001b[0m in \u001b[0;36midentity\u001b[0;34m(input, name)\u001b[0m\n\u001b[1;32m    265\u001b[0m     \u001b[0;31m# variables. Variables have correct handle data when graph building.\u001b[0m\u001b[0;34m\u001b[0m\u001b[0;34m\u001b[0m\u001b[0;34m\u001b[0m\u001b[0m\n\u001b[1;32m    266\u001b[0m     \u001b[0minput\u001b[0m \u001b[0;34m=\u001b[0m \u001b[0mops\u001b[0m\u001b[0;34m.\u001b[0m\u001b[0mconvert_to_tensor\u001b[0m\u001b[0;34m(\u001b[0m\u001b[0minput\u001b[0m\u001b[0;34m)\u001b[0m\u001b[0;34m\u001b[0m\u001b[0;34m\u001b[0m\u001b[0m\n\u001b[0;32m--> 267\u001b[0;31m   \u001b[0mret\u001b[0m \u001b[0;34m=\u001b[0m \u001b[0mgen_array_ops\u001b[0m\u001b[0;34m.\u001b[0m\u001b[0midentity\u001b[0m\u001b[0;34m(\u001b[0m\u001b[0minput\u001b[0m\u001b[0;34m,\u001b[0m \u001b[0mname\u001b[0m\u001b[0;34m=\u001b[0m\u001b[0mname\u001b[0m\u001b[0;34m)\u001b[0m\u001b[0;34m\u001b[0m\u001b[0;34m\u001b[0m\u001b[0m\n\u001b[0m\u001b[1;32m    268\u001b[0m   \u001b[0;31m# Propagate handle data for happier shape inference for resource variables.\u001b[0m\u001b[0;34m\u001b[0m\u001b[0;34m\u001b[0m\u001b[0;34m\u001b[0m\u001b[0m\n\u001b[1;32m    269\u001b[0m   \u001b[0;32mif\u001b[0m \u001b[0mhasattr\u001b[0m\u001b[0;34m(\u001b[0m\u001b[0minput\u001b[0m\u001b[0;34m,\u001b[0m \u001b[0;34m\"_handle_data\"\u001b[0m\u001b[0;34m)\u001b[0m\u001b[0;34m:\u001b[0m\u001b[0;34m\u001b[0m\u001b[0;34m\u001b[0m\u001b[0m\n",
      "\u001b[0;32m/opt/conda/lib/python3.7/site-packages/tensorflow_core/python/ops/gen_array_ops.py\u001b[0m in \u001b[0;36midentity\u001b[0;34m(input, name)\u001b[0m\n\u001b[1;32m   3824\u001b[0m         \u001b[0;32mpass\u001b[0m  \u001b[0;31m# Add nodes to the TensorFlow graph.\u001b[0m\u001b[0;34m\u001b[0m\u001b[0;34m\u001b[0m\u001b[0m\n\u001b[1;32m   3825\u001b[0m     \u001b[0;32mexcept\u001b[0m \u001b[0m_core\u001b[0m\u001b[0;34m.\u001b[0m\u001b[0m_NotOkStatusException\u001b[0m \u001b[0;32mas\u001b[0m \u001b[0me\u001b[0m\u001b[0;34m:\u001b[0m\u001b[0;34m\u001b[0m\u001b[0;34m\u001b[0m\u001b[0m\n\u001b[0;32m-> 3826\u001b[0;31m       \u001b[0m_ops\u001b[0m\u001b[0;34m.\u001b[0m\u001b[0mraise_from_not_ok_status\u001b[0m\u001b[0;34m(\u001b[0m\u001b[0me\u001b[0m\u001b[0;34m,\u001b[0m \u001b[0mname\u001b[0m\u001b[0;34m)\u001b[0m\u001b[0;34m\u001b[0m\u001b[0;34m\u001b[0m\u001b[0m\n\u001b[0m\u001b[1;32m   3827\u001b[0m   \u001b[0;31m# Add nodes to the TensorFlow graph.\u001b[0m\u001b[0;34m\u001b[0m\u001b[0;34m\u001b[0m\u001b[0;34m\u001b[0m\u001b[0m\n\u001b[1;32m   3828\u001b[0m   _, _, _op, _outputs = _op_def_library._apply_op_helper(\n",
      "\u001b[0;32m/opt/conda/lib/python3.7/site-packages/tensorflow_core/python/framework/ops.py\u001b[0m in \u001b[0;36mraise_from_not_ok_status\u001b[0;34m(e, name)\u001b[0m\n\u001b[1;32m   6604\u001b[0m   \u001b[0mmessage\u001b[0m \u001b[0;34m=\u001b[0m \u001b[0me\u001b[0m\u001b[0;34m.\u001b[0m\u001b[0mmessage\u001b[0m \u001b[0;34m+\u001b[0m \u001b[0;34m(\u001b[0m\u001b[0;34m\" name: \"\u001b[0m \u001b[0;34m+\u001b[0m \u001b[0mname\u001b[0m \u001b[0;32mif\u001b[0m \u001b[0mname\u001b[0m \u001b[0;32mis\u001b[0m \u001b[0;32mnot\u001b[0m \u001b[0;32mNone\u001b[0m \u001b[0;32melse\u001b[0m \u001b[0;34m\"\"\u001b[0m\u001b[0;34m)\u001b[0m\u001b[0;34m\u001b[0m\u001b[0;34m\u001b[0m\u001b[0m\n\u001b[1;32m   6605\u001b[0m   \u001b[0;31m# pylint: disable=protected-access\u001b[0m\u001b[0;34m\u001b[0m\u001b[0;34m\u001b[0m\u001b[0;34m\u001b[0m\u001b[0m\n\u001b[0;32m-> 6606\u001b[0;31m   \u001b[0msix\u001b[0m\u001b[0;34m.\u001b[0m\u001b[0mraise_from\u001b[0m\u001b[0;34m(\u001b[0m\u001b[0mcore\u001b[0m\u001b[0;34m.\u001b[0m\u001b[0m_status_to_exception\u001b[0m\u001b[0;34m(\u001b[0m\u001b[0me\u001b[0m\u001b[0;34m.\u001b[0m\u001b[0mcode\u001b[0m\u001b[0;34m,\u001b[0m \u001b[0mmessage\u001b[0m\u001b[0;34m)\u001b[0m\u001b[0;34m,\u001b[0m \u001b[0;32mNone\u001b[0m\u001b[0;34m)\u001b[0m\u001b[0;34m\u001b[0m\u001b[0;34m\u001b[0m\u001b[0m\n\u001b[0m\u001b[1;32m   6607\u001b[0m   \u001b[0;31m# pylint: enable=protected-access\u001b[0m\u001b[0;34m\u001b[0m\u001b[0;34m\u001b[0m\u001b[0;34m\u001b[0m\u001b[0m\n\u001b[1;32m   6608\u001b[0m \u001b[0;34m\u001b[0m\u001b[0m\n",
      "\u001b[0;32m/opt/conda/lib/python3.7/site-packages/six.py\u001b[0m in \u001b[0;36mraise_from\u001b[0;34m(value, from_value)\u001b[0m\n",
      "\u001b[0;31mInternalError\u001b[0m: Failed copying input tensor from /job:localhost/replica:0/task:0/device:CPU:0 to /job:localhost/replica:0/task:0/device:GPU:0 in order to run Identity: Dst tensor is not initialized. [Op:Identity]"
     ]
    }
   ],
   "source": [
    "# test 500k\n",
    "eigen_values, eigen_vectors, projection = pca_test(tf.convert_to_tensor(train_data[:500000], dtype = tf.float64), val_data)\n",
    "print('Done: test pca on 500k data subset')"
   ]
  },
  {
   "cell_type": "markdown",
   "metadata": {},
   "source": [
    "## Save Projection Output\n",
    "\n",
    "Use np.memmap to store the projected validation data to the GCS bucket"
   ]
  },
  {
   "cell_type": "code",
   "execution_count": null,
   "metadata": {},
   "outputs": [],
   "source": [
    "# store the validation data projection & principal components\n",
    "output_projection = np.memmap('pca_output.pkl', dtype='float32', mode='w+', shape=(36500, 128))\n",
    "output_projection = projection\n",
    "\n",
    "print('Done: storing to pkl')"
   ]
  }
 ],
 "metadata": {
  "kernelspec": {
   "display_name": "Python 3",
   "language": "python",
   "name": "python3"
  },
  "language_info": {
   "codemirror_mode": {
    "name": "ipython",
    "version": 3
   },
   "file_extension": ".py",
   "mimetype": "text/x-python",
   "name": "python",
   "nbconvert_exporter": "python",
   "pygments_lexer": "ipython3",
   "version": "3.7.6"
  }
 },
 "nbformat": 4,
 "nbformat_minor": 4
}
